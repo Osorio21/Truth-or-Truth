{
 "cells": [
  {
   "cell_type": "markdown",
   "id": "97b07f6d-2fcd-49d4-822a-8add6936b2c6",
   "metadata": {},
   "source": [
    "<img src=\"http://imgur.com/1ZcRyrc.png\" style=\"float: left; margin: 20px; height: 55px\">\n",
    "\n",
    "# Project 3: Web APIs & NLP\n",
    "## Truth or Truth"
   ]
  },
  {
   "cell_type": "markdown",
   "id": "3f11ea49-81b1-4272-aa6c-3bea68fa155f",
   "metadata": {},
   "source": [
    "# Introduction\n",
    "---"
   ]
  },
  {
   "cell_type": "markdown",
   "id": "d89f4e08-55db-4ce0-9d2d-924cb04c8e98",
   "metadata": {},
   "source": [
    "## Table of Contents:\n",
    "- [Problem Statement](#problem_statement)\n",
    "- [Data Used](#data_used)\n",
    "- [Data Dictionary](#data_dictionary)\n",
    "- [Next Step](#next_step_1)"
   ]
  },
  {
   "cell_type": "markdown",
   "id": "3c19e925-acd0-4e0b-90f6-f2df669aa5fe",
   "metadata": {},
   "source": [
    "## Problem Statement<a id='problem_statement'></a>\n",
    "---"
   ]
  },
  {
   "cell_type": "markdown",
   "id": "982759fd-f524-4304-a0c4-998614253973",
   "metadata": {},
   "source": [
    "The moderation teams of Reddit are overwhelmed with the vast number of posts and comments spanning its various subreddit communities. The teams in particular have trouble ensuring all posts of a given subreddit meet relevancy standards. The aim of this project is to build a model that can take text content from two different subreddits and accurately classify the origin of each piece of content. The main metrics to maximize are both the accuracy and F1 scores of the models. If successful, this model can be further improved upon to be used to classify content from any number of different subreddits across the website. This will greatly alleviate the burden of the Reddit moderation staff and open new avenues of effective moderation. The two subreddits used in this study are **r/news** and **r/conspiracy**. The four classification models constructed to solve this problem are Logistic Regression, Multinomial Naive Bayes, XGBClassifier, and Voting Classifier. "
   ]
  },
  {
   "cell_type": "markdown",
   "id": "05eb3e5b-997d-483e-b257-1db279a894dc",
   "metadata": {},
   "source": [
    "### Background"
   ]
  },
  {
   "cell_type": "markdown",
   "id": "b204474a-567c-4c73-afec-87d28db84fa7",
   "metadata": {},
   "source": [
    "Reddit is a social news aggregation and discussion website. Registered users submit content to the site which can be voted up or down by other members. Posts are organized by subject into user created boards called subreddits. Reddit administrators and subreddit moderators moderate the communities.<sup>1</sup> According to March 2023 statistics, Reddit ranks as the ninth most visited website globally and the sixth most visited website in the United States.<sup>2</sup>\n",
    "\n",
    "Natural Language Processing (NLP) refers to the branch of computer science and artificial intelligence related to computers developing the ability to understand text and spoken words.<sup>3</sup> Logistic regression estimates the probability of an event occurring based on a dataset of independent variables.<sup>4</sup> The Multinomial Naive Bayes algorithm is a learning approach that uses Bayes theorem.<sup>5</sup> XGBoost is a gradient-boosted decision tree machine learning model. It iteratively trains an array of decision trees. The final prediction is a weighted sum of all of the tree predictions.<sup>6</sup> A Voting Classifier is a machine learning model that trains on an ensemble of numerous models. It aggregates the results of each classifier and predicts the output class based on the highest majority of voting.<sup>7</sup>\n",
    "\n",
    "Classification accuracy is a metric that summarizes the performance of a classification model as the number of correct predictions divided by the total number of predictions.<sup>8</sup> F1 score is also a metric that measures a model’s accuracy. It combines both the precision and recall scores of a model.<sup>9</sup>"
   ]
  },
  {
   "cell_type": "markdown",
   "id": "2ff7725c-15b4-4cb2-a3eb-393452509a0f",
   "metadata": {},
   "source": [
    "1. [Reddit - Overview](https://en.wikipedia.org/wiki/Reddit)\n",
    "2. [Reddit - Traffic Statistics](https://www.semrush.com/website/reddit.com/overview/)\n",
    "3. [Natural Language Processing](https://www.ibm.com/topics/natural-language-processing)\n",
    "4. [Logistic Regression](https://www.ibm.com/topics/logistic-regression#:~:text=Resources-,What%20is%20logistic%20regression%3F,given%20dataset%20of%20independent%20variables.)\n",
    "5. [Multinomial Naive Bayes](https://www.upgrad.com/blog/multinomial-naive-bayes-explained/#:~:text=The%20Multinomial%20Naive%20Bayes%20algorithm%20is%20a%20Bayesian%20learning%20approach,tag%20with%20the%20greatest%20chance.)\n",
    "6. [XGBoost](https://www.nvidia.com/en-us/glossary/data-science/xgboost/)\n",
    "7. [Voting Classifier](https://www.geeksforgeeks.org/ml-voting-classifier-using-sklearn/#)\n",
    "8. [Classification Accuracy](https://machinelearningmastery.com/failure-of-accuracy-for-imbalanced-class-distributions/#:~:text=Classification%20accuracy%20is%20a%20metric,used%20for%20evaluating%20classifier%20models.)\n",
    "9. [F1 Score](https://www.v7labs.com/blog/f1-score-guide)"
   ]
  },
  {
   "cell_type": "markdown",
   "id": "e26c918b-243a-4b78-a0f0-4bcc38a79aa6",
   "metadata": {},
   "source": [
    "### Research"
   ]
  },
  {
   "cell_type": "markdown",
   "id": "ef99c96b-b9a6-4087-8bba-9ad019ab4554",
   "metadata": {},
   "source": [
    "#### r/news\n",
    ">\"The place for news articles about current events in the United States and the rest of the world.\" It boasts over 21 million members and is the ninth largest subreddit on the site.<sup>12</sup> Some of the content removal rules are listed below.\n",
    "\n",
    "Post will be removed if it:\n",
    ">* is not news.\n",
    ">* is not in English.\n",
    ">* is an opinion/analysis or advocacy piece.\n",
    ">* primarily concerns politics.\n",
    ">* has a title that does not match the actual title or the lede.\n",
    ">* has a pay wall or steals content.\n",
    ">* covers an already-submitted story.\n",
    ">* violates reddit's site-wide rules, especially regarding personal info.<sup>12</sup>\n",
    "\n",
    "Comment will be removed if it:\n",
    ">* is racist, sexist, vitriolic, or overly crude.\n",
    ">* is unnecessarily rude or provocative.\n",
    ">* is a cheap and distracting joke or meme.\n",
    ">* is responding to spam. \n",
    ">* violates reddit's site-wide rules.\n",
    ">* advocates or celebrates the death of another person. \n",
    ">* incites violence.<sup>12</sup>\n",
    "---\n",
    "#### r/conspiracy\n",
    ">\"The conspiracy subreddit is a thinking ground. Above all else, we respect everyone's opinions and ALL religious beliefs and creeds. We hope to challenge issues which have captured the public’s imagination, from JFK and UFOs to 9/11. This is a forum for free thinking, not hate speech. Respect other views and opinions, and keep an open mind. Our intentions are aimed towards a fairer, more transparent world and a better future for everyone.\" It boasts nearly 2 million members.<sup>13</sup> Some of the main rules are listed below.\n",
    "\n",
    "Rules:\n",
    ">* Bigoted slurs are not tolerated.\n",
    ">* Address the argument; not the user, the mods, or the sub.\n",
    ">* No blog spam/malicious web sites.\n",
    ">* No stalking or trolling. No threatening or abusive language.\n",
    ">* No caps lock in titles other than acronyms/initialisms. Comments with a large percentage of all caps, all bold, all large fonts or text colors are considered 'shouting' and will be removed.\n",
    ">* No memes\n",
    ">* Posting links in other subs pointing to specific submissions or comments here is subject to a ban, depending on context.\n",
    ">* Misleading, fabricated or sensationalist headlines are subject to removal.\n",
    ">* Self posts that lack context or content may be removed.<sup>13</sup>"
   ]
  },
  {
   "cell_type": "markdown",
   "id": "dc5be431-e7bc-4517-8398-dcabbd41fafb",
   "metadata": {},
   "source": [
    "12. [r/news - Overview](https://www.reddit.com/r/news/)<br>\n",
    "13. [r/conspiracy - Overview](https://www.reddit.com/r/conspiracy/)"
   ]
  },
  {
   "cell_type": "markdown",
   "id": "15dd2487-70c9-4f69-9dae-4eb49571aa47",
   "metadata": {},
   "source": [
    "## Data Used<a id='data_used'></a>\n",
    "---"
   ]
  },
  {
   "cell_type": "markdown",
   "id": "26f521e8-93eb-4ce5-b8a4-5f179f1a8cf7",
   "metadata": {},
   "source": [
    "Data was scraped from the afromentioned subreddits with the utilization of [Pushshift Reddit API](https://github.com/pushshift/api). Methodology can be examined in the [Data Collection](./02_Data_Collection.ipynb) notebook. **Origin date is April 26, 2023.**\n",
    "\n",
    "#### r/news\n",
    "\n",
    ">* [`120d_0d.csv`](../data/reddit_news/posts/120d_0d.csv): 1000 posts up to 120 days before origin date.\n",
    ">* [`240d_120d.csv`](../data/reddit_news/posts/240d_120d.csv): 1000 posts between 120-240 days before origin date.\n",
    ">* [`360d_240d.csv`](../data/reddit_news/posts/360d_240d.csv): 1000 posts between 240-360 days before origin date.\n",
    ">* [`480d_360d.csv`](../data/reddit_news/posts/480d_360d.csv): 1000 posts between 360-480 days before origin date.\n",
    ">* [`600d_480d.csv`](../data/reddit_news/posts/600d_480d.csv): 1000 posts between 480-600 days before origin date.\n",
    ">* [`720d_600d.csv`](../data/reddit_news/posts/720d_600d.csv): 1000 posts between 600-720 days before origin date.\n",
    ">* [`840d_720d.csv`](../data/reddit_news/posts/840d_720d.csv): 1000 posts between 720-840 days before origin date.\n",
    ">* [`960d_840d.csv`](../data/reddit_news/posts/960d_840d.csv): 1000 posts between 840-960 days before origin date.\n",
    ">* [`1080d_960d.csv`](../data/reddit_news/posts/1080d_960d.csv): 1000 posts between 960-1080 days before origin date.\n",
    ">* [`1200d_1080d.csv`](../data/reddit_news/posts/1200d_1080d.csv): 1000 posts between 1080-1200 days before origin date.\n",
    "\n",
    "#### r/conspiracy\n",
    "\n",
    ">* [`120d_0d.csv`](../data/reddit_conspiracy/posts/120d_0d.csv): 1000 posts up to 120 days before origin date.\n",
    ">* [`240d_120d.csv`](../data/reddit_conspiracy/posts/240d_120d.csv): 1000 posts between 120-240 days before origin date.\n",
    ">* [`360d_240d.csv`](../data/reddit_conspiracy/posts/360d_240d.csv): 1000 posts between 240-360 days before origin date.\n",
    ">* [`480d_360d.csv`](../data/reddit_conspiracy/posts/480d_360d.csv): 1000 posts between 360-480 days before origin date.\n",
    ">* [`600d_480d.csv`](../data/reddit_conspiracy/posts/600d_480d.csv): 1000 posts between 480-600 days before origin date.\n",
    ">* [`720d_600d.csv`](../data/reddit_conspiracy/posts/720d_600d.csv): 1000 posts between 600-720 days before origin date.\n",
    ">* [`840d_720d.csv`](../data/reddit_conspiracy/posts/840d_720d.csv): 1000 posts between 720-840 days before origin date.\n",
    ">* [`960d_840d.csv`](../data/reddit_conspiracy/posts/960d_840d.csv): 1000 posts between 840-960 days before origin date.\n",
    ">* [`1080d_960d.csv`](../data/reddit_conspiracy/posts/1080d_960d.csv): 1000 posts between 960-1080 days before origin date.\n",
    ">* [`1200d_1080d.csv`](../data/reddit_conspiracy/posts/1200d_1080d.csv): 1000 posts between 1080-1200 days before origin date.\n",
    "\n"
   ]
  },
  {
   "cell_type": "markdown",
   "id": "7bac85e9-935d-43a2-aab0-2c7930e54356",
   "metadata": {},
   "source": [
    "## Data Dictionary<a id='data_dictionary'></a>\n",
    "---"
   ]
  },
  {
   "cell_type": "markdown",
   "id": "979870cd-4c06-4435-9b65-223539caa5e9",
   "metadata": {},
   "source": [
    "The [final preprocessed dataset](../data/cleaned_data/conspiracy_news_preprocessed.csv) contains the following features:\n",
    "\n",
    "|       **Feature**      | **Type** |            **Dataset**           |                                **Description**                                |\n",
    "|:----------------------:|:--------:|:--------------------------------:|:-----------------------------------------------------------------------------:|\n",
    "| **subreddit**          | _object_ | conspiracy_news_preprocessed.csv | origin of post text from Reddit.com                                           |\n",
    "| **title**              | _object_ | conspiracy_news_preprocessed.csv | content of subreddit post                                                     |\n",
    "| **utc_datatime_str**   | _datetime64_ | conspiracy_news_preprocessed.csv | date and time of post creation                                                |\n",
    "| **language**           | _object_ | conspiracy_news_preprocessed.csv | language of post text                                                         |\n",
    "| **title_length**       |   _int_  | conspiracy_news_preprocessed.csv | number of characters in post text                                             |\n",
    "| **title_word_count**   |   _int_  | conspiracy_news_preprocessed.csv | number of words in post text                                                  |\n",
    "| **sentiment**          |  _float_ | conspiracy_news_preprocessed.csv | sentiment polarity score of post text                                         |\n",
    "| **sentiment_category** | _object_ | conspiracy_news_preprocessed.csv | categorized polarity score (negative, neutral, postive)                       |\n",
    "| **hour**               | _object_ | conspiracy_news_preprocessed.csv | categorized time of day of post creation (morning, afternoon, evening, night) |"
   ]
  },
  {
   "cell_type": "markdown",
   "id": "64a199a5-68d5-477d-98fc-3c46fb1b26f4",
   "metadata": {},
   "source": [
    "## Next Step:<a id='next_step_1'></a>\n",
    "---"
   ]
  },
  {
   "cell_type": "markdown",
   "id": "a88510de-76b2-470d-bee2-cf614db3588f",
   "metadata": {},
   "source": [
    "### [Data Collection](./02_Data_Collection.ipynb)"
   ]
  }
 ],
 "metadata": {
  "kernelspec": {
   "display_name": "Python 3 (ipykernel)",
   "language": "python",
   "name": "python3"
  },
  "language_info": {
   "codemirror_mode": {
    "name": "ipython",
    "version": 3
   },
   "file_extension": ".py",
   "mimetype": "text/x-python",
   "name": "python",
   "nbconvert_exporter": "python",
   "pygments_lexer": "ipython3",
   "version": "3.9.13"
  }
 },
 "nbformat": 4,
 "nbformat_minor": 5
}
